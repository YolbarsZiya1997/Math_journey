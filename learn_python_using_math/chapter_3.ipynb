{
 "cells": [
  {
   "cell_type": "markdown",
   "metadata": {},
   "source": [
    "## III. Describing Data with Python"
   ]
  },
  {
   "cell_type": "markdown",
   "metadata": {},
   "source": [
    "### Finding the Mean"
   ]
  },
  {
   "cell_type": "markdown",
   "metadata": {},
   "source": [
    "#### The mean is a common and intuitive way summarize a set of numbers. It's what we might simply call the \"average\" in everyday use, although as we'll see, there are other kinds of averages as well. Let's take sample set of numbers and calculate the mean"
   ]
  },
  {
   "cell_type": "code",
   "execution_count": 3,
   "metadata": {},
   "outputs": [
    {
     "name": "stdout",
     "output_type": "stream",
     "text": [
      "Mean donation over the last 12 days is 477.75\n"
     ]
    }
   ],
   "source": [
    "\"\"\"\n",
    "Calculating the mean\n",
    "\"\"\"\n",
    "\n",
    "def calculate_mean(numbers):\n",
    "    s = sum(numbers)\n",
    "    N = len(numbers)\n",
    "    # Calculate the mean\n",
    "    mean = s / N\n",
    "    \n",
    "    return mean\n",
    "\n",
    "if __name__ == '__main__':\n",
    "    donations = [100, 60, 70, 900, 100, 200, 500, 500, 503, 600, 1000, 1200]\n",
    "    mean = calculate_mean(donations)\n",
    "    N = len(donations)\n",
    "    print('Mean donation over the last {0} days is {1}'. format(N, mean))\n"
   ]
  },
  {
   "cell_type": "markdown",
   "metadata": {},
   "source": [
    "## Finding the Median"
   ]
  },
  {
   "cell_type": "markdown",
   "metadata": {},
   "source": [
    "#### The median of a collection of numbers is another kind of average. To find the median, we sort the numbers in ascending order. If the length of the list of numbers is odd , the number in the middle of the lis is the median. If the length of the list of numbers is even, we get the median by taking the mean of the two middle numbers. Let's find the median of the previous list of donations: 100, 60, 70, 900, 100, 200, 500, 500, 503, 600, 1000, and 1200."
   ]
  },
  {
   "cell_type": "markdown",
   "metadata": {},
   "source": [
    "#### Before we write a program to find the median of a list of numbers, let's think about how we could automatically calculate the middle elements of alist in either case. If the length of a list(N) is odd, the middle numbers is the on in position (N+1)/2. If N is even, the two middle elements are N/2 and (N/2) + 1. "
   ]
  },
  {
   "cell_type": "markdown",
   "metadata": {},
   "source": [
    "### In order to write a function that calculates the median, we'll also need to sort a list in ascending order. "
   ]
  },
  {
   "cell_type": "code",
   "execution_count": 1,
   "metadata": {},
   "outputs": [
    {
     "data": {
      "text/plain": [
       "[1, 3, 4]"
      ]
     },
     "execution_count": 1,
     "metadata": {},
     "output_type": "execute_result"
    }
   ],
   "source": [
    "samplelist = [4, 1, 3]\n",
    "samplelist.sort()\n",
    "samplelist"
   ]
  },
  {
   "cell_type": "code",
   "execution_count": 3,
   "metadata": {},
   "outputs": [
    {
     "name": "stdout",
     "output_type": "stream",
     "text": [
      "Median donation over the last 12 days is 500.0\n"
     ]
    }
   ],
   "source": [
    "\"\"\"\n",
    "Calculating the median\n",
    "\"\"\"\n",
    "\n",
    "def calculate_median(numbers):\n",
    "    N = len(numbers)\n",
    "    numbers.sort()\n",
    "    \n",
    "    # Find the median\n",
    "    if N % 2 == 0:      # if N is even\n",
    "        m1 = N/2\n",
    "        m2 = (N/2) + 1\n",
    "        # Convert to integer, match position (N/2 might have been a fraction, and lists do not accpet float as indexes)\n",
    "        m1 = int(m1) - 1\n",
    "        m2 = int(m2) - 1\n",
    "        median = (numbers[m1] + numbers[m2])/2   \n",
    "        \n",
    "    else:\n",
    "        m = (N+1) / 2\n",
    "        # Convert to integer, match position\n",
    "        m = int(m) - 1\n",
    "        median = numbers[m]\n",
    "             \n",
    "    return median\n",
    "\n",
    "if __name__ == '__main__':\n",
    "    donations = [100, 60, 70, 900, 100, 200, 500, 500, 503, 600, 1000, 1200]\n",
    "    median = calculate_median(donations)\n",
    "    N = len(donations)\n",
    "    print('Median donation over the last {0} days is {1}'.format(N, median))"
   ]
  },
  {
   "cell_type": "markdown",
   "metadata": {},
   "source": [
    "### Finding the Mode and Creating a Frequency Table"
   ]
  },
  {
   "cell_type": "markdown",
   "metadata": {},
   "source": [
    "#### Instead of finding the mean value or the median value of a set of numbers, what if you wanted to find the number that occurs most frequently? This numbers is called the mode."
   ]
  },
  {
   "cell_type": "markdown",
   "metadata": {},
   "source": [
    "#### There's no symbolic formula for calculating the mode -- you simply count how many times each unique number occurs and find the one that occurs the most"
   ]
  },
  {
   "cell_type": "code",
   "execution_count": 13,
   "metadata": {},
   "outputs": [
    {
     "data": {
      "text/plain": [
       "[(4, 2), (2, 1), (1, 1), (3, 1)]"
      ]
     },
     "execution_count": 13,
     "metadata": {},
     "output_type": "execute_result"
    }
   ],
   "source": [
    "from collections import Counter\n",
    "simplelist = [4, 2, 1, 3, 4]\n",
    "c = Counter(simplelist)\n",
    "c.most_common()"
   ]
  },
  {
   "cell_type": "markdown",
   "metadata": {},
   "source": [
    "#### The first element of the first tuple is the number that occurs most frequently, and the second element is the number of times it occurs. The second, third, and fourth tuples contain the other numbers along with the count of the number of times they appear."
   ]
  },
  {
   "cell_type": "code",
   "execution_count": 7,
   "metadata": {},
   "outputs": [
    {
     "data": {
      "text/plain": [
       "[(4, 2), (2, 1)]"
      ]
     },
     "execution_count": 7,
     "metadata": {},
     "output_type": "execute_result"
    }
   ],
   "source": [
    "c.most_common(2)"
   ]
  },
  {
   "cell_type": "code",
   "execution_count": 8,
   "metadata": {},
   "outputs": [
    {
     "data": {
      "text/plain": [
       "[(4, 2)]"
      ]
     },
     "execution_count": 8,
     "metadata": {},
     "output_type": "execute_result"
    }
   ],
   "source": [
    "mode = c.most_common(1)\n",
    "mode"
   ]
  },
  {
   "cell_type": "code",
   "execution_count": 9,
   "metadata": {},
   "outputs": [
    {
     "data": {
      "text/plain": [
       "(4, 2)"
      ]
     },
     "execution_count": 9,
     "metadata": {},
     "output_type": "execute_result"
    }
   ],
   "source": [
    "mode[0]"
   ]
  },
  {
   "cell_type": "code",
   "execution_count": 10,
   "metadata": {},
   "outputs": [
    {
     "data": {
      "text/plain": [
       "4"
      ]
     },
     "execution_count": 10,
     "metadata": {},
     "output_type": "execute_result"
    }
   ],
   "source": [
    "mode[0][0]"
   ]
  },
  {
   "cell_type": "markdown",
   "metadata": {},
   "source": [
    "### Finding the Mode"
   ]
  },
  {
   "cell_type": "code",
   "execution_count": 14,
   "metadata": {},
   "outputs": [
    {
     "name": "stdout",
     "output_type": "stream",
     "text": [
      "The mode of the list of numbers is : 9\n"
     ]
    }
   ],
   "source": [
    "\"\"\"\n",
    "Calculating the mode\n",
    "\"\"\"\n",
    "\n",
    "from collections import Counter\n",
    "def calculate_mode(numbers):\n",
    "    c = Counter(numbers)\n",
    "    mode = c.most_common(1)\n",
    "    return mode[0][0]\n",
    "\n",
    "if __name__ == '__main__':\n",
    "    scores = [7, 8, 9, 2, 10, 9, 9, 9, 9, 4, 5, 6, 1, 5, 6, 7, 8, 6, 1, 10]\n",
    "    mode = calculate_mode(scores)\n",
    "    print('The mode of the list of numbers is : {0}'.format(mode))"
   ]
  },
  {
   "cell_type": "markdown",
   "metadata": {},
   "source": [
    "#### What if you have a set of data where two or more numbers occur the same maximum number of times? For example, in the list of numbers 5, 5, 5, 4, 4, 4, 9, 1, and 3, both 4 and 5 are present three times. In such cases, the list of numbers is said to have multiple modes, and our program should find and print all the modes. The modified program follows:"
   ]
  },
  {
   "cell_type": "code",
   "execution_count": 15,
   "metadata": {},
   "outputs": [
    {
     "name": "stdout",
     "output_type": "stream",
     "text": [
      "The mode(s) of the list of numbers are: \n",
      "5\n",
      "4\n"
     ]
    }
   ],
   "source": [
    "\"\"\"\n",
    "Calculating the mode when the list of numbers may\n",
    "have multiple modes\n",
    "\"\"\"\n",
    "\n",
    "from collections import Counter\n",
    "\n",
    "def calculate_mode(numbers):\n",
    "    c = Counter(numbers)\n",
    "    numbers_freq = c.most_common()\n",
    "    max_count = numbers_freq[0][1]  # max_count represents the times the most frequent appearing element appear\n",
    "    \n",
    "    modes = []\n",
    "    for num in numbers_freq:\n",
    "        if num[1] == max_count:  # and if the times of appear equals the max_count  \n",
    "            modes.append(num[0])\n",
    "    return modes\n",
    "\n",
    "if __name__ == '__main__':\n",
    "    scores = [5, 5, 5, 4, 4, 4, 9, 1, 3]\n",
    "    modes = calculate_mode(scores)\n",
    "    print('The mode(s) of the list of numbers are: ')\n",
    "    for mode in modes:\n",
    "        print(mode)"
   ]
  },
  {
   "cell_type": "markdown",
   "metadata": {},
   "source": [
    "### Creating a Frequency Table"
   ]
  },
  {
   "cell_type": "code",
   "execution_count": 1,
   "metadata": {},
   "outputs": [
    {
     "name": "stdout",
     "output_type": "stream",
     "text": [
      "Number\tFrequency\n",
      "9\t5\n",
      "6\t3\n",
      "7\t2\n",
      "8\t2\n",
      "10\t2\n",
      "5\t2\n",
      "1\t2\n",
      "2\t1\n",
      "4\t1\n"
     ]
    }
   ],
   "source": [
    "\"\"\"\n",
    "Frequency table for a list of numbers    \n",
    "\"\"\"\n",
    "\n",
    "from collections import Counter\n",
    "\n",
    "def frequency_table(numbers):\n",
    "    table = Counter(numbers)\n",
    "    print(\"Number\\tFrequency\")\n",
    "    for number in table.most_common():\n",
    "        print('{0}\\t{1}'.format(number[0], number[1]))\n",
    "        \n",
    "if __name__ == '__main__':\n",
    "    scores = [7, 8, 9, 2, 10, 9, 9, 9, 9, 4, 5, 6, 1, 5, 6, 7, 8, 6, 1, 10]\n",
    "    frequency_table(scores)"
   ]
  },
  {
   "cell_type": "code",
   "execution_count": 4,
   "metadata": {},
   "outputs": [
    {
     "name": "stdout",
     "output_type": "stream",
     "text": [
      "Numbers\tFrequency\n",
      "1\t2\n",
      "2\t1\n",
      "4\t1\n",
      "5\t2\n",
      "6\t3\n",
      "7\t2\n",
      "8\t2\n",
      "9\t5\n",
      "10\t2\n"
     ]
    }
   ],
   "source": [
    "\"\"\"\n",
    "Frequency table for a list of numbers \n",
    "Enhanced to display the table sorted by the numbers\n",
    "\"\"\"\n",
    "from collections import Counter\n",
    "\n",
    "def freq_table(numbers):\n",
    "    table = Counter(numbers)\n",
    "    print('Numbers\\tFrequency')\n",
    "    numbers_freq = table.most_common()\n",
    "    numbers_freq.sort()\n",
    "    for number in numbers_freq:\n",
    "        print('{0}\\t{1}'.format(number[0], number[1]))\n",
    "        \n",
    "if __name__ == '__main__':\n",
    "    scores = [7, 8, 9, 2, 10, 9, 9, 9, 9, 4, 5, 6, 1, 5, 6, 7, 8, 6, 1, 10]\n",
    "    freq_table(scores)"
   ]
  },
  {
   "cell_type": "markdown",
   "metadata": {},
   "source": [
    "### Measuring the Dispersion"
   ]
  },
  {
   "cell_type": "markdown",
   "metadata": {},
   "source": [
    "#### The next statistical calculations we'll look at measure the dispersion, which tells us how far away the numbers in a set of data are from the mean of the data set."
   ]
  },
  {
   "cell_type": "markdown",
   "metadata": {},
   "source": [
    "### Finding the Range of a Set of Numbers"
   ]
  },
  {
   "cell_type": "markdown",
   "metadata": {},
   "source": [
    "#### Once again, consider the list of donations during period A: 100, 60, 70, 900, 100, 200, 500, 500, 503, 600, 1000, and 1200. We found that the mean donation per day is 477.75. But just looking at the mean ,we have no idea whether all the donations fell into a narrow range--say between400 and 500 -- or whether they varied much more than that--say between 60 and 1200, as in this case. For a list of numbers, the range is the difference between the highest number and the lowest number. You could have two groups of numbers with the exact same mean but with vastly different ranges, so knowing the range fills in more information about a set of numbers beyond what we can learn from just looking at the mean, median, and mode."
   ]
  },
  {
   "cell_type": "code",
   "execution_count": 5,
   "metadata": {},
   "outputs": [
    {
     "name": "stdout",
     "output_type": "stream",
     "text": [
      "Lowest: 60 Highest: 1200 Range: 1140\n"
     ]
    }
   ],
   "source": [
    "\"\"\"\n",
    "Find the range\n",
    "\"\"\"\n",
    "\n",
    "def find_range(numbers):\n",
    "    lowest = min(numbers)\n",
    "    highest = max(numbers)\n",
    "    # Find the range\n",
    "    r = highest - lowest\n",
    "    \n",
    "    return lowest, highest, r\n",
    "\n",
    "if __name__ == '__main__':\n",
    "    donations = [100, 60, 70, 900, 100, 200, 500, 500, 503, 600, 1000, 1200]\n",
    "    lowest, highest, r = find_range(donations)\n",
    "    print('Lowest: {0} Highest: {1} Range: {2}'.format(lowest, highest, r))\n",
    "    \n",
    "    "
   ]
  },
  {
   "cell_type": "markdown",
   "metadata": {},
   "source": [
    "### Finding the Variance and the Standard Deviation"
   ]
  },
  {
   "cell_type": "markdown",
   "metadata": {},
   "source": [
    "#### Now what do we do if we want to know the specific information about the individual numbers(all of them)? How they are varied from the mean? Were they all similar, clustered near the mean, or were they all different, closer to the extremes*"
   ]
  },
  {
   "cell_type": "markdown",
   "metadata": {},
   "source": [
    "#### There are two related measures of dispersion that tell us more about alist of numbers along these lines: the variance and the standard deviation. To calculate either of these, we first need to find the difference of each of the numbers from the mean. The variance is the average of the squares of those differences. A high variance means that values are far from the mean; a low variance means that the values are clustered close to the mean. We calculate the variance using the formula $$variance = \\frac{\\Sigma(x_i - x_{mean})^2}{n}$$ "
   ]
  },
  {
   "cell_type": "markdown",
   "metadata": {},
   "source": [
    "#### In the formula, $x_i$ stands for individual numbers (in this case, daily total donations), $x_{mean}$ stands for the mean of these numbers (the mean daily donation), and $n$ is the number of values in the list (the number of days on which donations were received). For each value in the list, we take the difference between that number and the mean and square it. Then, we add all those squared differences together and, finally, divide the whole sum by $n$ to find the variance."
   ]
  },
  {
   "cell_type": "markdown",
   "metadata": {},
   "source": [
    "#### If we want to calculate the standard deviation as well, all we have to do is take the square root of the variance. Values that are within one standard deviation of the mean can be thought of as fairly typical, whereas values that are three or more standard deviations away from the can be considered much more atypical -- we call such values outliers."
   ]
  },
  {
   "cell_type": "code",
   "execution_count": 1,
   "metadata": {},
   "outputs": [
    {
     "name": "stdout",
     "output_type": "stream",
     "text": [
      "The variance of the list of numbers is 141047.35416666666\n",
      "The standard deviation of the list of numbers is 375.5627166887931\n"
     ]
    }
   ],
   "source": [
    "\"\"\"\n",
    "Find the variance and standard deviation of a list of numbers\n",
    "\"\"\"\n",
    "\n",
    "def calculate_mean(numbers):\n",
    "    s = sum(numbers)\n",
    "    N = len(numbers)\n",
    "    # calculate the mean\n",
    "    mean = s/N\n",
    "    \n",
    "    return mean\n",
    "\n",
    "def find_differences(numbers):\n",
    "    # Find the mean\n",
    "    mean = calculate_mean(numbers)\n",
    "    # Find the differences from the mean\n",
    "    diff = []\n",
    "    for num in numbers:\n",
    "        diff.append(num - mean)\n",
    "        \n",
    "    return diff\n",
    "\n",
    "def calculate_variance(numbers):\n",
    "    # Find the list of differences\n",
    "    diff = find_differences(numbers)\n",
    "    # Find the squared differences\n",
    "    squared_diff = []\n",
    "    for d in diff:\n",
    "        squared_diff.append(d**2)\n",
    "    # Find the variance\n",
    "    sum_squared_diff = sum(squared_diff)\n",
    "    variance = sum_squared_diff/len(numbers)\n",
    "    \n",
    "    return variance\n",
    "\n",
    "if __name__ == '__main__':\n",
    "    donations = [100, 60, 70, 900, 100, 200, 500, 500, 503, 600, 1000, 1200]\n",
    "    variance = calculate_variance(donations)\n",
    "    print('The variance of the list of numbers is {0}'.format(variance))\n",
    "    \n",
    "    std = variance**0.5\n",
    "    print('The standard deviation of the list of numbers is {0}'.format(std))"
   ]
  },
  {
   "cell_type": "code",
   "execution_count": 2,
   "metadata": {},
   "outputs": [
    {
     "name": "stdout",
     "output_type": "stream",
     "text": [
      "The variance of this set of data is 135.38888888888889\n",
      "The standard deviation of this set of date is 11.63567311713804\n"
     ]
    }
   ],
   "source": [
    "def calculate_mean(numbers):\n",
    "    s = sum(numbers)\n",
    "    N = len(numbers)\n",
    "    # Calculate the mean\n",
    "    mean = s/N\n",
    "    return mean\n",
    "\n",
    "def find_difference(numbers):\n",
    "    mean = calculate_mean(numbers)\n",
    "    diff = []\n",
    "    for n in numbers:\n",
    "        diff.append(n - mean)\n",
    "        \n",
    "    return diff\n",
    "\n",
    "def calculate_variance(numbers):\n",
    "    diff = find_difference(numbers)\n",
    "    # Find the squared difference\n",
    "    squared_diff = []\n",
    "    for d in diff:\n",
    "        squared_diff.append(d**2)\n",
    "        \n",
    "    # The sum of differences\n",
    "    sum_squared_diff = sum(squared_diff)\n",
    "    variance = sum_squared_diff / len(numbers)\n",
    "    \n",
    "    return variance\n",
    "\n",
    "if __name__ == '__main__':\n",
    "    donations = [382, 389, 377, 397, 396, 368, 369, 392, 398, 367, 393, 396]\n",
    "    variance = calculate_variance(donations)\n",
    "    print('The variance of this set of data is {0}'.format(variance))\n",
    "    \n",
    "    std = variance**0.5\n",
    "    print('The standard deviation of this set of date is {0}'.format(std))"
   ]
  },
  {
   "cell_type": "markdown",
   "metadata": {},
   "source": [
    "### Calculating the Correlation Between Two Data Sets"
   ]
  },
  {
   "cell_type": "markdown",
   "metadata": {},
   "source": [
    "#### In this section, we'll learn how to calculate a statistical measure that tells us the nature and the strength of the relationship between two sets of numbers: the Pearson correlation coefficient, which I'll call simply the correlation coefficient. Note that this coefficient measures the strength of the linear relationship(which does not include the non-linear one). "
   ]
  },
  {
   "cell_type": "markdown",
   "metadata": {},
   "source": [
    "####  A correlation coefficient of 0 indicates that there's no linear correlation between the two quantities.(Note that this does not mean the two quantities are independent of each other. There could still be a nonlinear relationship between them)."
   ]
  },
  {
   "cell_type": "markdown",
   "metadata": {},
   "source": [
    "#### A coefficient of 1 or close to 1 indicates that there's a strong positive linear correlation; a coefficient of exactly 1 is referred to as perfect positive correlation. Similarly, a correlation coefficient of -1 or close to -1 indicates a strong negative correlation, where 1 indicates a perfect negative correlation."
   ]
  },
  {
   "cell_type": "markdown",
   "metadata": {},
   "source": [
    "## CORRELATION AND CAUSATION"
   ]
  },
  {
   "cell_type": "markdown",
   "metadata": {},
   "source": [
    "#### In statistics, you'll often come across the statement \"correlation doesn't imply causation.\" This is a reminder that even two sets of observations are strongly correlated with each other, that doesn't mean one variable causes the other. When two variables are strongly correlated, somtimes there's a third factor that influences both variables and explains the correlation. A classic examole is the correlation between ice cream sales and crime rates--if you track both of these variables in a typical city, you're likely to find a correlation but this does not mean that ice cream sales cause crime(or vice versa). Ice cream sales and crime are correlated because they both go up as the weather gets hotter during the summer. OF course, this does not mean that hot weather directly causes crime to go up either; there are more complicated causes behind that correlation as well. "
   ]
  },
  {
   "cell_type": "markdown",
   "metadata": {},
   "source": [
    "### Calculating the Correlation Coefficient"
   ]
  }
 ],
 "metadata": {
  "interpreter": {
   "hash": "08820d80d9da2e8b8362dd7eb175f13515edfba605b5089051618ffd8d1308cc"
  },
  "kernelspec": {
   "display_name": "Python 3.10.0 64-bit",
   "language": "python",
   "name": "python3"
  },
  "language_info": {
   "codemirror_mode": {
    "name": "ipython",
    "version": 3
   },
   "file_extension": ".py",
   "mimetype": "text/x-python",
   "name": "python",
   "nbconvert_exporter": "python",
   "pygments_lexer": "ipython3",
   "version": "3.10.0"
  },
  "orig_nbformat": 4
 },
 "nbformat": 4,
 "nbformat_minor": 2
}
