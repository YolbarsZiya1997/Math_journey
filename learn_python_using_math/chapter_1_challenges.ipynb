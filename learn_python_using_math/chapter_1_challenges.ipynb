{
 "cells": [
  {
   "cell_type": "markdown",
   "metadata": {},
   "source": [
    "### No.1: Even-Odd Vending Machine"
   ]
  },
  {
   "cell_type": "markdown",
   "metadata": {},
   "source": [
    "#### Try writing an \"even-odd vending machine\", which will take a number as input and do two things"
   ]
  },
  {
   "cell_type": "markdown",
   "metadata": {},
   "source": [
    "#### 1. Print whether the number is even or odd"
   ]
  },
  {
   "cell_type": "markdown",
   "metadata": {},
   "source": [
    "#### 2. Display the number followed by the next 9 even or odd numbers"
   ]
  },
  {
   "cell_type": "code",
   "execution_count": 12,
   "metadata": {},
   "outputs": [
    {
     "name": "stdout",
     "output_type": "stream",
     "text": [
      "Even\n",
      "8\n",
      "10\n",
      "12\n",
      "14\n",
      "16\n",
      "18\n",
      "20\n",
      "22\n",
      "24\n"
     ]
    }
   ],
   "source": [
    "\"\"\"Even-Odd vending Machine\n",
    "\"\"\"\n",
    "def even_odd(num):\n",
    "    if num % 2 == 0:\n",
    "        print('Even')\n",
    "    else:\n",
    "        print('Odd')\n",
    "    for i in range(9):\n",
    "        num += 2\n",
    "        print(num)\n",
    "        \n",
    "if __name__ == '__main__':\n",
    "    num = float(input('Enter an integer'))\n",
    "    if num.is_integer():\n",
    "        even_odd(int(num))\n",
    "    else:\n",
    "        print('Please enter an integer')"
   ]
  },
  {
   "cell_type": "code",
   "execution_count": 3,
   "metadata": {},
   "outputs": [
    {
     "name": "stdout",
     "output_type": "stream",
     "text": [
      "4\n",
      "6\n",
      "8\n",
      "10\n",
      "12\n"
     ]
    }
   ],
   "source": [
    "# logic for the code\n",
    "num = 2\n",
    "for i in range(5):\n",
    "    num += 2\n",
    "    print(num)"
   ]
  },
  {
   "cell_type": "markdown",
   "metadata": {},
   "source": [
    "### No.2: Enhance Multiplication Table Generator"
   ]
  },
  {
   "cell_type": "markdown",
   "metadata": {},
   "source": [
    "#### Our multiplication table generator is cool, but it prints only the first 10 multiples.Enhance the generator so that the user can specify both the number and up to which multiple. For example, I should be able to input that I want to see a table listing the first 15 multiples of 9."
   ]
  },
  {
   "cell_type": "code",
   "execution_count": 16,
   "metadata": {},
   "outputs": [
    {
     "name": "stdout",
     "output_type": "stream",
     "text": [
      "5.0 x 1 = 5.0\n",
      "5.0 x 2 = 10.0\n",
      "5.0 x 3 = 15.0\n",
      "5.0 x 4 = 20.0\n",
      "5.0 x 5 = 25.0\n",
      "5.0 x 6 = 30.0\n",
      "5.0 x 7 = 35.0\n",
      "5.0 x 8 = 40.0\n",
      "5.0 x 9 = 45.0\n",
      "5.0 x 10 = 50.0\n",
      "5.0 x 11 = 55.0\n",
      "5.0 x 12 = 60.0\n",
      "5.0 x 13 = 65.0\n",
      "5.0 x 14 = 70.0\n",
      "5.0 x 15 = 75.0\n",
      "5.0 x 16 = 80.0\n",
      "5.0 x 17 = 85.0\n",
      "5.0 x 18 = 90.0\n",
      "5.0 x 19 = 95.0\n",
      "5.0 x 20 = 100.0\n"
     ]
    }
   ],
   "source": [
    "def table_generator(multiples):\n",
    "    num = float(input('Choose the number you wanna see the multiples of: '))\n",
    "    for i in range(1, multiples + 1):\n",
    "        print('{0} x {1} = {2}'.format(num, i, num*i))\n",
    "        \n",
    "if __name__ == '__main__':\n",
    "    multiples = int(input('Enter the damn multiples'))\n",
    "    table_generator(multiples)"
   ]
  },
  {
   "cell_type": "code",
   "execution_count": 19,
   "metadata": {},
   "outputs": [
    {
     "name": "stdout",
     "output_type": "stream",
     "text": [
      "9.0 x 1 = 9.0\n",
      "9.0 x 2 = 18.0\n",
      "9.0 x 3 = 27.0\n",
      "9.0 x 4 = 36.0\n",
      "9.0 x 5 = 45.0\n",
      "9.0 x 6 = 54.0\n",
      "9.0 x 7 = 63.0\n",
      "9.0 x 8 = 72.0\n",
      "9.0 x 9 = 81.0\n",
      "9.0 x 10 = 90.0\n",
      "9.0 x 11 = 99.0\n",
      "9.0 x 12 = 108.0\n",
      "9.0 x 13 = 117.0\n",
      "9.0 x 14 = 126.0\n",
      "9.0 x 15 = 135.0\n",
      "9.0 x 16 = 144.0\n",
      "9.0 x 17 = 153.0\n",
      "9.0 x 18 = 162.0\n",
      "9.0 x 19 = 171.0\n",
      "9.0 x 20 = 180.0\n"
     ]
    }
   ],
   "source": [
    "# A more compact version would be \n",
    "\n",
    "def multi_table(a,n):\n",
    "    for i in range(1, n + 1):\n",
    "        print('{0} x {1} = {2}'.format(a, i, a*i))\n",
    "        \n",
    "if __name__ == '__main__':\n",
    "    try:\n",
    "        a = float(input('Enter a number: '))\n",
    "        n = float(input('Enter the number of multiples: '))\n",
    "        if not n.is_integer() or n < 0:\n",
    "            print('The number of multiples should be a positive integer')\n",
    "        else:\n",
    "            multi_table(a, int(n))\n",
    "    except ValueError:\n",
    "        print('You have entered an invalid input')"
   ]
  },
  {
   "cell_type": "markdown",
   "metadata": {},
   "source": [
    "### No.3: Enhanced Unit Converter"
   ]
  },
  {
   "cell_type": "markdown",
   "metadata": {},
   "source": [
    "#### The unit conversion program we wrote in this chapter is limited to conversions between kilometers and miles. Try extending the program to convert between units of mass(such as kilograms and pounds) and between units of temperature(such as Celsius and Fahrenheit)"
   ]
  },
  {
   "cell_type": "code",
   "execution_count": 23,
   "metadata": {},
   "outputs": [
    {
     "name": "stdout",
     "output_type": "stream",
     "text": [
      "1. Kilometers to Miles\n",
      "2. Miles to Kilometers\n",
      "3. Kilograms to pounds\n",
      "4. Pounds to Kilograms\n",
      "5. Celsius to Fahrenheit\n",
      "6. Fahrenheit to Celsius\n",
      "Temperature in Fahrenheit is 32.0\n"
     ]
    }
   ],
   "source": [
    "def print_menu():\n",
    "    print('1. Kilometers to Miles')\n",
    "    print('2. Miles to Kilometers')\n",
    "    print('3. Kilograms to pounds')\n",
    "    print('4. Pounds to Kilograms')\n",
    "    print('5. Celsius to Fahrenheit')\n",
    "    print('6. Fahrenheit to Celsius')\n",
    "    \n",
    "def km_miles():\n",
    "    km = float(input('Enter distance in kilometers: '))\n",
    "    miles = km / 1.609\n",
    "    \n",
    "    print('Distances in miles: {0}'. format(miles))\n",
    "    \n",
    "def miles_km():\n",
    "    miles = float(input('Enter distances in miles: '))\n",
    "    km = miles * 1.609\n",
    "    \n",
    "    print('Distance in kilometers: {0}'.format(km))\n",
    "        \n",
    "def kg_lb():\n",
    "    kg = float(input('Enter mass in kilograms'))\n",
    "    lb = kg/2.20462\n",
    "    \n",
    "    print('Mass in Pounds are {0}'.format(lb))\n",
    "\n",
    "def lb_kg():\n",
    "    lb = float(input('Enter mass in pounds'))\n",
    "    kg = lb * 2.20462\n",
    "    \n",
    "    print('Mass in kilograms are {0}'.format(kg))\n",
    "    \n",
    "def c_f():\n",
    "    C = float(input('Enter the temperature in terms of Celsius: '))\n",
    "    F = (C * (9/5)) + 32\n",
    "    \n",
    "    print('Temperature in Fahrenheit is {0}'.format(F))\n",
    "    \n",
    "    \n",
    "def f_c():\n",
    "    F = float(input('Enter the temperature in terms of Fahrenheit'))\n",
    "    C = (F - 32) * (5/9)\n",
    "    \n",
    "    print('Temperature in Celsius is {0}'.format(C))\n",
    "    \n",
    "    \n",
    "if __name__ == '__main__':\n",
    "    print_menu()\n",
    "    choice = input('Please choose the type of converter you need')\n",
    "    if choice == '1':\n",
    "        km_miles()\n",
    "    if choice == '2':\n",
    "        miles_km()\n",
    "    if choice == '3':\n",
    "        kg_lb()\n",
    "    if choice == '4':\n",
    "        lb_kg()\n",
    "    if choice == '5':\n",
    "        c_f()\n",
    "    if choice == '6':\n",
    "        f_c()\n",
    "\n",
    "    "
   ]
  },
  {
   "cell_type": "markdown",
   "metadata": {},
   "source": [
    "### No.4: Fraction Calculator"
   ]
  },
  {
   "cell_type": "markdown",
   "metadata": {},
   "source": [
    "#### Write a calculator that can perform the basic mathematical operations on two fractions."
   ]
  },
  {
   "cell_type": "code",
   "execution_count": 24,
   "metadata": {},
   "outputs": [
    {
     "name": "stdout",
     "output_type": "stream",
     "text": [
      "Result of Addition: 1\n"
     ]
    }
   ],
   "source": [
    "\"\"\"Fraction operations\n",
    "\"\"\"\n",
    "    \n",
    "from fractions import Fraction\n",
    "    \n",
    "def add(a, b):\n",
    "    print('Result of Addition: {0}'.format(a+b))\n",
    "    \n",
    "def sub(a, b):\n",
    "    print('Result of Substraction: {0}'.format(a-b))\n",
    "    \n",
    "def mul(a, b):\n",
    "    print('Result of Multiplication: {0}'.format(a*b))\n",
    "        \n",
    "def div(a, b):\n",
    "    print('Result of Division: {0}'.format(a/b))\n",
    "        \n",
    "if __name__ == '__main__':\n",
    "    a = Fraction(input('Enter first fraction: '))\n",
    "    b = Fraction(input('Enter second fraction: '))\n",
    "    op = input('Operation to perform - Add, Substract, Divide, Multiply')\n",
    "    if op == 'Add':\n",
    "        add(a, b)\n",
    "    if op == 'Substract':\n",
    "        sub(a, b)\n",
    "    if op == 'Divide':\n",
    "        div(a, b)\n",
    "    if op == 'Multiply':\n",
    "        mul(a, b)    "
   ]
  },
  {
   "cell_type": "code",
   "execution_count": null,
   "metadata": {},
   "outputs": [],
   "source": []
  }
 ],
 "metadata": {
  "interpreter": {
   "hash": "08820d80d9da2e8b8362dd7eb175f13515edfba605b5089051618ffd8d1308cc"
  },
  "kernelspec": {
   "display_name": "Python 3.10.0 64-bit",
   "language": "python",
   "name": "python3"
  },
  "language_info": {
   "codemirror_mode": {
    "name": "ipython",
    "version": 3
   },
   "file_extension": ".py",
   "mimetype": "text/x-python",
   "name": "python",
   "nbconvert_exporter": "python",
   "pygments_lexer": "ipython3",
   "version": "3.10.0"
  },
  "orig_nbformat": 4
 },
 "nbformat": 4,
 "nbformat_minor": 2
}
